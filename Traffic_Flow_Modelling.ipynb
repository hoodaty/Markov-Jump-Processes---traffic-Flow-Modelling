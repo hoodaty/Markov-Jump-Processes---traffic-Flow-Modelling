{
  "cells": [
    {
      "cell_type": "markdown",
      "metadata": {
        "id": "Q2SxNwfXhFvT"
      },
      "source": [
        "# **MARKOV JUMP PROCESS APPLIED TO TRAFFIC FLOW MODELLING**"
      ]
    },
    {
      "cell_type": "markdown",
      "metadata": {
        "id": "lib41cn_iKEC"
      },
      "source": [
        "#### AUTHORS: Hoodaty Soumodeep, Kumar Akshita"
      ]
    },
    {
      "cell_type": "markdown",
      "metadata": {
        "id": "nNNOoBVUhNaq"
      },
      "source": [
        "### **Jump Process**\n",
        "A jump process is a random variable $X: (\\Omega, A, \\mathbb{P}) \\rightarrow (\\chi, \\tau)$, where:\n",
        "$A$ is a $\\sigma$ algebra on $\\Omega$ and $\\mathbb{P}$ a probability measure on $(\\Omega, A)$\n",
        "The space $\\chi$ is the set of functions from $[0,\\infty)$ to the countable state space E, which are cadlag, i.e\n",
        "$$\\chi = \\{f:[0,\\infty) \\rightarrow E, \\; \\lim_{s→t, s<t}f(s) = f(t_{-}), \\; \\lim_{s→t, s\\geq t}f(s) = f(t) \\}$$\n",
        "The $\\sigma$ field $\\tau$ is the smallest $\\sigma$ field of $\\chi$ such that $f \\in \\chi → f(t)$ is measurable for any t $\\geq$ 0.\n",
        "\n",
        "\n",
        "### **Markov Jump Process**\n",
        "A markov jump process is a jump process that satisfies the Markov property, i.e $\\forall 0 \\leq t_{0} < \\ldots < t_{n}$, $s \\geq 0$, $x_{0}, \\ldots, x_{n}$, and $y \\in E$,\n",
        "$$\\mathbb{P}(X_{t_{n}+s}|X_{t_{n}} = x_{n}, X_{t_{n-1} = x_{n-1}}, ..., X_{t_{0}}=x_{0}) = \\mathbb{P}(X_{t_{n}+s}=y|X_{t_{n}} = x_{n}) = \\mathbb{P}(X_{s}=y|X_{0} = x_{n})$$\n",
        "\n",
        "\n",
        "### **Mesanthrope Process**\n",
        "A mesanthrope process is a jump process describing particles that evolve on a set of sites, and the movement is governed by their aversion to each other, or the tendency to avoid being in close proximity with one another.\n"
      ]
    },
    {
      "cell_type": "markdown",
      "metadata": {
        "id": "uJ1fdsFR0KuL"
      },
      "source": [
        "### **Description of the Model**\n",
        "\n",
        "The chosen model is a totally asymmetric misanthrope markov jump process that describes the evolution of the number of vehicles on different sections of a road. The model is based on a mesoscopic approach, which is an intermediate approach between macroscopic and microscopic models that describe the traffic flow dynamics in an aggregate way but represent the individual\n",
        "driver-vehicle behaviors (i.e vehicles are individually considered like in a microscopic approach but their dynamics are aggregated per section as in a macroscopic one).\n",
        "\n",
        "In this model, vehicles act as particles and road sections as sites. The maximum number of vehicles per section is denoted as $N \\in \\mathbb{N}^{*}$. We consider the case where the road has a finite number of sections M, so that the state space $E = \\{0,1,,\\ldots,N\\}^{M}$. A vehicle can jump from one section of the road to the next, with a jump rate that depends on the number of vehicles in both the departure and arrival sections.\n",
        "\n",
        "The evolution of the system takes place as:\n",
        "If at a time instant t, $\\eta \\in E$ represents the state of the system, $x \\in \\{0,1,\\ldots,M\\}$ represents the section number and $\\eta(x)$ denotes the number of vehicles in section $x$, the probability that a vehicle moves from section x to x+1 during the time interval $[t,t+\\delta t]$ id $b_{x}(\\eta(x),\\eta(x+1) + \\epsilon(\\delta t)) x \\delta t$, where $\\lim_{\\delta t →0}\\epsilon(\\delta t)=0$. The times between jumps of a section x have an exponential distribution with parameter $b_{x}(x,x+1)$, where $b_{x}(0,n) = b_{x}(n,N)$ = 0. At every step, the section with the minimum jump time is chosen, a vehicle is transferred from this section to the next, the global time of the system updated with the obtained jump time, and new jump times of modified sections are calculated based on the new jump rates.\n",
        "\n",
        "\n",
        "#### **Assumptions:**\n",
        "**1)** The maximum number of vehicles in each section is N. Further, length of each vehicle is assumed to be 1 so that length of a section is considered in terms of the maximum number of vehicles it can hold.\n",
        "\n",
        "**2)** A vehicle can only jump from one section to the next, and two vehicles cannot jump simultaneously. Vehicles in the last section jump to the previous section.\n",
        "\n",
        "**3)** Jump times of a section x containing stricly positive number of vehicles follow an exponential distribution with parameter $b_{x}$ which is a function of the number of vehicles in the section of departure (x) and the section of arrival (x+1). It is in fact an increasing function of the former while a decreasing function of the latter.\n",
        "\n",
        "**4)** If the section with minimum jump time has no vehicles or if the next section contains maximum possible vehicles (that is has no more capacity), we choose the section with the next least jump time and follow the same procedure."
      ]
    },
    {
      "cell_type": "markdown",
      "metadata": {
        "id": "sjGwREd9nPlt"
      },
      "source": [
        "#### **Parameters:**\n",
        "\n",
        "**1)** Jump rate function $b_{x}$\n",
        "\n",
        "**2)** Section size $D_{x}$\n",
        "\n",
        "**3)** Maximum number of vehicles (capacity) of the section $N_{x}$.\n",
        "\n",
        "For simplicity, we will assume $D_{x}=N_{x}$.\n",
        "\n",
        "The jump rate, which depends on the number of vehicles in the section of departure and arrival, is defined as a function of supply and demand functions of the current and next section. Every section x applies a pressure on the next section x+1. If $\\Delta_{x}$ denotes the demand expressed by section x, and $\\Sigma_{x+1}$ denotes the supply expressed by the next section x+1, the jump rate is then defined as:\n",
        "\n",
        "$$b_{x}(\\eta(x),\\eta(x+1) = min\\left\\{\\Delta_{x}\\left(\\frac{\\eta(x)}{D_{x}}\\right),\\Sigma_{x+1}\\left(\\frac{\\eta(x+1)}{D_{x+1}}\\right)\\right\\}$$\n",
        "\n",
        "where $\\Delta_{x}$ and $\\Sigma_{x}$ (denoting the demand and supply respectively as expressed by section x) are given as:\n",
        "\n",
        "$$\\Delta_{x}(\\rho) = \\begin{cases}\n",
        "  \\begin{eqnarray*}\n",
        "  Q_{x}(\\rho) && \\text{ if } \\rho < \\rho_{x}^{cr}\\\\\n",
        "  \\text{max}_{\\rho}Q_{x}(\\rho) && \\text{ otherwise}\n",
        "  \\end{eqnarray*}\n",
        "  \\end{cases}$$\n",
        "\n",
        "$$\\Sigma_{x}(\\rho) = \\begin{cases}\n",
        "  \\begin{eqnarray*}\n",
        "  \\text{max}_{\\rho}Q_{x}(\\rho) && \\text{ if } \\rho < \\rho_{x}^{cr}\\\\\n",
        "  Q_{x}(\\rho) && \\text{ otherwise}\n",
        "  \\end{eqnarray*}\n",
        "  \\end{cases}$$\n",
        "\n",
        "Here, $Q_{x}(\\rho)$ denotes the flow volume as a function of the density $\\rho$, and we use its definition from the macroscopic model by Edie and Underwood as:\n",
        "$$Q_{x}(\\rho) = V\\rho e^{-\\lambda \\rho}$$\n",
        "\n",
        "where $\\lambda$ is a qualified parameter of sensitivity, inverse of relaxation time. $\\rho_{cr}$ denotes the argmax of the flow volumn $Q_{x}$, and is thus the only critical point of the flow volume. Upon solving $\\frac{dQ_{x}}{dt}(\\rho) = 0$, we get $\\rho^{cr} = \\frac{1}{\\lambda}$.\n"
      ]
    },
    {
      "cell_type": "markdown",
      "metadata": {
        "id": "Qg_h2VsrnUaw"
      },
      "source": [
        "## **SIMULATION OF THE PROCESS**"
      ]
    },
    {
      "cell_type": "code",
      "execution_count": null,
      "metadata": {
        "id": "TnElyi_gU0WQ"
      },
      "outputs": [],
      "source": [
        "#importing the required libraries\n",
        "import numpy as np\n",
        "import scipy as sc\n",
        "import random\n",
        "import scipy.stats as scs\n",
        "import matplotlib.pyplot as plt\n",
        "from numpy import zeros, cumsum, arange, append\n",
        "from numpy.random import poisson, rand, exponential\n",
        "from matplotlib.pyplot import figure, step, title, legend\n",
        "from scipy.optimize import minimize\n",
        "import math\n",
        "import scipy.linalg as linalg\n",
        "import sympy as sp"
      ]
    },
    {
      "cell_type": "code",
      "source": [
        "import warnings\n",
        "warnings.filterwarnings(\"ignore\", category=DeprecationWarning)"
      ],
      "metadata": {
        "id": "rJ4mdK2ahWt1"
      },
      "execution_count": null,
      "outputs": []
    },
    {
      "cell_type": "markdown",
      "source": [
        "First of all, we define a function 'jump' that defines the jump markov process and takes as an input the parameters eta (denoting initial state or initial number of vehicles in each road section), D (denoting length or maximum number of vehicles in each section, since length of each vehicle is assumed to be 1), V (denoting the average speeds of vehicles in each section) and T (denoting the time limit for the process)."
      ],
      "metadata": {
        "id": "eraARfssZfnh"
      }
    },
    {
      "cell_type": "code",
      "execution_count": null,
      "metadata": {
        "id": "Bq2-KmvIU8Uw"
      },
      "outputs": [],
      "source": [
        "def jump(eta1,D,V,T):\n",
        "    for elem1, elem2 in zip(eta1,D):\n",
        "      assert (elem1<=elem2),\"Initial number of vehicles in a section cannot be greater than section capacity\"\n",
        "    eta=eta1\n",
        "    cst=2 #parameter of sensitivity for definition of Q\n",
        "    rho_cr=1/cst #density threshold for which flow volume Q(rho) is maximal\n",
        "\n",
        "    def Q(x,rho): #defining the flow volume function\n",
        "        return V[x]*rho*math.exp(-cst*rho)\n",
        "\n",
        "    def delta(x,rho): #defining the demand function\n",
        "        initial_g=0\n",
        "        if rho<rho_cr:\n",
        "            return Q(x,rho)\n",
        "        else:\n",
        "            result = minimize(lambda y: -Q(x,y), initial_g)\n",
        "            return -result.fun\n",
        "\n",
        "    def sigma(x,rho): #defining the supply function\n",
        "        initial_g=0\n",
        "        if rho<rho_cr:\n",
        "            result = minimize(lambda y: -Q(x,y), initial_g)\n",
        "            return -result.fun\n",
        "        else:\n",
        "            return Q(x,rho)\n",
        "\n",
        "    def b(x): #defining the parameter of the exponential distribution\n",
        "        if x<len(eta)-1:\n",
        "            if delta(x+1,eta[x+1]/D[x+1])<=sigma(x,eta[x]/D[x]):\n",
        "                return delta(x+1,eta[x+1]/D[x+1])\n",
        "            else:\n",
        "                return sigma(x,eta[x]/D[x])\n",
        "        else:\n",
        "            if delta(x-1,eta[x-1]/D[x-1])<=sigma(x,eta[x]/D[x]):\n",
        "                return delta(x-1,eta[x-1]/D[x-1])\n",
        "            else:\n",
        "                return sigma(x,eta[x]/D[x])\n",
        "\n",
        "    lst=[] #list to store states after each iteration\n",
        "    cumtime = []#list to store the time increment arrays\n",
        "    gtime = 0 #variable to store global time of the system\n",
        "    T_n=np.zeros(len(eta)) #empty array to store jump times\n",
        "    ar=[] #empty array to store jump time increments\n",
        "    iterations = 0\n",
        "    max_it=1000\n",
        "    while(gtime<=T and iterations<=max_it):\n",
        "        times=[]\n",
        "        #generating jump time increments for all sections using random exponential distribution\n",
        "        for i in range(len(eta)):\n",
        "            if b(i)>0:\n",
        "                times.append(np.random.exponential(1/b(i)))\n",
        "            if b(i)<=0:\n",
        "                times.append(0)\n",
        "        ar.append(times)\n",
        "        np.array(ar)\n",
        "        T_n=np.sum(np.array(ar),axis=0)\n",
        "        lT_n = list(T_n)\n",
        "        lst.append(eta.copy())\n",
        "        idx=np.argmin(T_n) #selecting the state with the minimum jump time\n",
        "        gtime += lT_n[idx] #updating global time of system with the jump time of selected section\n",
        "        #updating the state eta\n",
        "        if idx<len(eta)-1: #if the section with minimum jump time is not the last section\n",
        "            if eta[idx]>0 and eta[idx+1]<D[idx+1]: #checking if selected section has >0 vehicles and if next section has capacity\n",
        "              eta[idx]=eta[idx]-1\n",
        "              eta[idx+1]=eta[idx+1]+1\n",
        "            elif eta[idx]==0: #if selected section has no vehicles choose another section with the next least jump time\n",
        "              tm=sorted(T_n)\n",
        "              for i in range (1,len(lT_n)):\n",
        "                smin = tm[i]\n",
        "                if eta[lT_n.index(smin)] == 0:\n",
        "                  continue\n",
        "                else:\n",
        "                  if lT_n.index(smin)<len(eta)-1 and  eta[lT_n.index(smin)+1]<D[lT_n.index(smin)+1]:\n",
        "                    eta[lT_n.index(smin)]=eta[lT_n.index(smin)]-1\n",
        "                    eta[lT_n.index(smin)+1]=eta[lT_n.index(smin)+1]+1\n",
        "                    break\n",
        "                  elif lT_n.index(smin)==len(eta)-1 and  eta[lT_n.index(smin)-1]<D[lT_n.index(smin)-1]:\n",
        "                    eta[lT_n.index(smin)]=eta[lT_n.index(smin)]-1\n",
        "                    eta[lT_n.index(smin)-1]=eta[lT_n.index(smin)-1]+1\n",
        "                    break\n",
        "\n",
        "        else: #if the section with minimum jump time is the last section\n",
        "            if eta[idx]>0 and eta[idx-1]<D[idx-1]:\n",
        "                eta[idx]=eta[idx]-1\n",
        "                eta[idx-1]=eta[idx-1]+1\n",
        "            elif eta[idx]==0:\n",
        "              tm=sorted(T_n)\n",
        "              for i in range (1,len(eta)):\n",
        "                smin = tm[i]\n",
        "                if eta[lT_n.index(smin)] == 0:\n",
        "                  continue\n",
        "                elif eta[lT_n.index(smin)]>0 and eta[lT_n.index(smin)+1]<D[lT_n.index(smin)+1]:\n",
        "                   eta[lT_n.index(smin)]=eta[lT_n.index(smin)]-1\n",
        "                   eta[lT_n.index(smin)+1]=eta[lT_n.index(smin)+1]+1\n",
        "                   break\n",
        "\n",
        "        cumtime.append(np.cumsum(ar,axis=0))\n",
        "        iterations+=1\n",
        "    lst.append(eta.copy())\n",
        "\n",
        "    return lst, cumtime"
      ]
    },
    {
      "cell_type": "markdown",
      "source": [
        "Now that we have defined our jump process, we try to simulate it using different values of initial state eta, the list D containing lengths (or vehicle capacities) of sections, the average speeds of vehicles in each section contained in the list V."
      ],
      "metadata": {
        "id": "Oj-pS6AMtkFC"
      }
    },
    {
      "cell_type": "code",
      "execution_count": null,
      "metadata": {
        "id": "jwBuJBCDVFhy"
      },
      "outputs": [],
      "source": [
        "eta = np.array([10,6,9,6,8,4,5,8,1,7]) #initial state of the process for a road with 10 sections, eta represents the\n",
        "#array denoting initial number of vehicles on each of the 10 sections\n",
        "D = np.array([10,10,10,10,10,10,10,10,10,10]) #array representing length of each section, assumed to be equal to the\n",
        "#maximum number of vehicles on each section\n",
        "V = [20,30,30,69,34,56,23,48,89,17] #array representing average speed of vehicles on each of the 10 sections\n",
        "T = 50\n",
        "states,times = jump(eta,D,V,T)"
      ]
    },
    {
      "cell_type": "markdown",
      "source": [
        "We observe the evolution of the number of vehicles on each section by means of subplots for each section."
      ],
      "metadata": {
        "id": "edHGaek35MVT"
      }
    },
    {
      "cell_type": "code",
      "execution_count": null,
      "metadata": {
        "colab": {
          "base_uri": "https://localhost:8080/",
          "height": 1000
        },
        "id": "fb0b9AwPj9HD",
        "outputId": "a26e2800-3974-4fce-babd-b6d1a6964bd7"
      },
      "outputs": [
        {
          "output_type": "display_data",
          "data": {
            "text/plain": [
              "<Figure size 1000x2500 with 10 Axes>"
            ],
            "image/png": "[encoded data removed]"
          },
          "metadata": {}
        }
      ],
      "source": [
        "import matplotlib.pyplot as plt\n",
        "import numpy as np\n",
        "\n",
        "# Create x-axis values (time steps)\n",
        "x = range(len(states))\n",
        "\n",
        "# Concatenate values for each section\n",
        "concatenated_states = np.array([np.array([state[i] for state in states]) for i in range(len(states[0]))])\n",
        "# Plot each section in a separate subplot\n",
        "num_sections = len(states[0])\n",
        "fig, axs = plt.subplots(num_sections, 1, figsize=(10, 25), sharex=True)\n",
        "\n",
        "for i, section in enumerate(concatenated_states):\n",
        "    axs[i].step(x, section, where='post')\n",
        "    axs[i].set_ylabel('Number of Cars')\n",
        "    axs[i].set_title(f'Section {i+1}')\n",
        "    axs[i].set_xlabel('Time Step')  # Set x-label for each subplot\n",
        "    axs[i].set_ylim(0, 20)\n",
        "\n",
        "plt.tight_layout()\n",
        "plt.show()"
      ]
    },
    {
      "cell_type": "markdown",
      "source": [
        "We observe from the simulation that while some sections observe a lot of changes in the number of vehicles over the chosen time duration, some others do not change at all from the initial states. The observed behavior changes as the values of eta, D and V are changed as these influence the values of the flow volume function and consequently the demand and supply functions and hence the function for parameter of the exponential distribution."
      ],
      "metadata": {
        "id": "jbW28QViaIA-"
      }
    },
    {
      "cell_type": "markdown",
      "source": [
        "## Particular Case: Road Containing Three Sections"
      ],
      "metadata": {
        "id": "YFe5PCWtDoD0"
      }
    },
    {
      "cell_type": "markdown",
      "source": [
        "We now limit ourselves to the analysis of the case where the road contains 3 sections.\n",
        "\n",
        "We try to find the expected number of cars in each section using Monte-Carlo approximation.\n",
        "\n",
        "###**Monte Carlo Approximation**\n",
        "The Monte-Carlo approach to approximate the expectation of a random variable involves the usage of the law of large numbers. The law of large numbers states that if we have a sequence of n independent and identically distributed random variables $(X_{n})_{n \\geq 0}$, then the empirical average of these iid random variables converges almost surely as $n → \\infty$ to $\\mathbb{E}(X_{1})$, i.e.,\n",
        "\n",
        "$$\\frac{\\sum_{i=1}^{n}X_{i}}{n} \\xrightarrow{n \\to \\infty} \\mathbb{E}(X_{1}) \\quad \\text{a.s.}$$.\n",
        "\n",
        "So, we simulate n independent paths of our process $(\\eta_{t})_{t\\geq 0}$ for large n (representing number of simulations) and compute the empirical average of the obtained values of the process at some time instant t. For large n, this approximates the expectation of the number of vehicles in each section, i.e gives us an approximation of $\\mathbb{E}(\\eta_{t})$."
      ],
      "metadata": {
        "id": "gdCKjlPs7PeB"
      }
    },
    {
      "cell_type": "code",
      "source": [
        "eta = np.array([10,6,3]) #list representing initial number of vehicles on each of the three sections\n",
        "D = np.array([10,10,10]) # list representing length (or max number of vehicles) of each section\n",
        "V = [20,30,69] # list representing average speeds of vehicles on each section\n",
        "T = 50 #global time value\n",
        "states,times = jump(eta,D,V,T)"
      ],
      "metadata": {
        "id": "eAIXLhc170pm"
      },
      "execution_count": null,
      "outputs": []
    },
    {
      "cell_type": "code",
      "execution_count": null,
      "metadata": {
        "id": "hKsnpDSpVK9i"
      },
      "outputs": [],
      "source": [
        "def monte_carlo_expectation(eta, D, V, T, num_simulations):\n",
        "    final_states = []\n",
        "    for _ in range(num_simulations):\n",
        "        states,times = jump(eta, D, V, T)\n",
        "        final_state=states[-1]  # Get the final state of the jump process\n",
        "        final_states.append(final_state)\n",
        "    # Calculating the average final state\n",
        "    avg_final_state = np.mean(final_states, axis=0)\n",
        "    return avg_final_state"
      ]
    },
    {
      "cell_type": "code",
      "execution_count": null,
      "metadata": {
        "colab": {
          "base_uri": "https://localhost:8080/"
        },
        "id": "eR5ymc_5VMVm",
        "outputId": "a9eeeaf1-ffbc-475f-d355-33d731c0f16b"
      },
      "outputs": [
        {
          "output_type": "execute_result",
          "data": {
            "text/plain": [
              "array([0.266, 9.732, 9.002])"
            ]
          },
          "metadata": {},
          "execution_count": 8
        }
      ],
      "source": [
        "monte_carlo_expectation(eta,D,V,T,500)"
      ]
    },
    {
      "cell_type": "markdown",
      "source": [
        "##Infinitesimal Generator $A$ and Matrix of Transition Probabilities $P_{t}$\n",
        "\n",
        "The **infinitesimal generator** of the process is defined as the matrix of transition rates, and can be expressed as\n",
        "$$Af(\\eta) = \\sum_{x=1}^{M}b_{x}(\\eta(x),\\eta(x+1))[f(\\eta^{x})-f(\\eta)]$$ for all bounded functions $f$, where $\\eta$ denotes the current state and $\\eta^{x}$ denotes the next state, i.e\n",
        "\n",
        "$$\\begin{eqnarray*}\n",
        "\\eta^{x}(z) && = && \\eta(z), && \\text{if} && z\\neq x,x+1\\\\\n",
        "\\eta^{x}(x) && = && \\eta(x)-1 \\\\\n",
        "\\eta^{x}(x+1) && = && \\eta(x)+1\n",
        "\\end{eqnarray*}$$\n",
        "\n",
        "\n",
        "The elements of the infinitesimal generator matrix $A$ represent the rates of transition from one section to the other if that is possible, taking into considerations all of the necessary assumptions. We now describe the construction of $A$ for 3 sections.\n",
        "\n",
        "Let $\\eta = (i,j,k)$ denote the current state, i.e section 1 contains i vehicles initially, section 2 contains j and section 3 contains k vehicles. There are 3 possibilities that we need to consider all of them greater than or equal to 0 and less than or equal to the maximum number of vehicles possible in each section:\n",
        "\n",
        "**1)** The minimum jump time is for section 1, and the next state $\\eta^{x}$ has $[i-1,j+1,k]$ vehicles section-wise, given that $j+1$ is less than or equal to the maximum capacity in the second section.\n",
        "\n",
        "**2)** The minimum jump time is for section 2, and the next state $\\eta^{x}$ has $[i,j-1,k+1]$ vehicles section-wise, given that $k+1$ is less than or equal to the maximum capacity in the third section.\n",
        "\n",
        "**3)** The minimum jump time is for section 3, and the next state $\\eta^{x}$ has $[i,j+1,k-1]$ vehicles section-wise, given that $j+1$ is less than or equal to the maximum capacity in the second section.\n",
        "\n",
        "For simplicity and faster computations, we take D=2, i.e the maximum number of vehicles in each of the sections is 2. We have generated the state space which contains 27 elements, since each of the three sections can contain 0,1 or 2 elements.\n",
        "\n",
        "In this case, for any $x, \\eta = [i\\hspace{0.3cm}j\\hspace{0.3cm}k]$.\n",
        "\n",
        "\n",
        "$$A_{\\eta \\eta^{x}} = \\begin{cases}\n",
        "b_{0}(\\eta(0),\\eta(1)); \\; \\eta^{x} = [i-1\\hspace{0.3cm}j+1\\hspace{0.3cm}k]\\\\\n",
        "\\\\\n",
        "b_{1}(\\eta(1),\\eta(2)); \\; \\eta^{x} = [i\\hspace{0.3cm}j-1\\hspace{0.3cm}k+1]\\\\\n",
        "\\\\\n",
        "b_{2}(\\eta(2),\\eta(1)); \\; \\eta^{x} = [i\\hspace{0.3cm}j+1\\hspace{0.3cm}k-1] \\\\\n",
        "\\\\\n",
        "- \\sum_{j=1, j \\neq i}^{27}A_{ij}; \\; \\eta^{x} = [i\\hspace{0.3cm}j\\hspace{0.3cm}k]\\\\\n",
        "\\\\\n",
        "0; \\; \\text{otherwise}\n",
        "\\end{cases}\n",
        "$$\n",
        "\n",
        "The diagonal elements of $A$ are generated such that $A$ follows the property of the infinitesimal generator that the elements in each row sum up to 0, i.e the diagonal elements are negative of the sum of the elements over the non-diagonal elements."
      ],
      "metadata": {
        "id": "gxBYS3R-0dVj"
      }
    },
    {
      "cell_type": "code",
      "source": [
        "# redefining the flow volume, demand, supply and transition rate functions to be accessed outside the jump process function\n",
        "\n",
        "cst=2\n",
        "rho_cr=1/cst #critical threshold for vehicle density\n",
        "\n",
        "def Q(x,rho): #defining the flow volume function\n",
        "    return V[x]*rho*math.exp(-cst*rho)\n",
        "\n",
        "def delta(x,rho): #defining the demand function\n",
        "    initial_g=0\n",
        "    if rho<rho_cr:\n",
        "        return Q(x,rho)\n",
        "    else:\n",
        "        result = minimize(lambda y: -Q(x,y), initial_g)\n",
        "        return -result.fun\n",
        "def sigma(x,rho): #defining the supply function\n",
        "    initial_g=0\n",
        "    if rho<rho_cr:\n",
        "        result = minimize(lambda y: -Q(x,y), initial_g)\n",
        "        return -result.fun\n",
        "    else:\n",
        "        return Q(x,rho)\n",
        "\n",
        "def b(x,eta): #defining the parameter of the exponential distribution\n",
        "        if x<len(eta)-1:\n",
        "            if delta(x+1,eta[x+1]/D[x+1])<=sigma(x,eta[x]/D[x]):\n",
        "                return delta(x+1,eta[x+1]/D[x+1])\n",
        "            else:\n",
        "                return sigma(x,eta[x]/D[x])\n",
        "        else:\n",
        "            if delta(x-1,eta[x-1]/D[x-1])<=sigma(x,eta[x]/D[x]):\n",
        "                return delta(x-1,eta[x-1]/D[x-1])\n",
        "            else:\n",
        "                return sigma(x,eta[x]/D[x])"
      ],
      "metadata": {
        "id": "RXrWoF6rKfm6"
      },
      "execution_count": null,
      "outputs": []
    },
    {
      "cell_type": "markdown",
      "source": [
        "We now define the infinitesimal generator matrix according to the definition above, based on the transition rates from one state to another over the whole state space of 27 states. The resulting matrix has a dimension of 27x27.\n"
      ],
      "metadata": {
        "id": "-MG-1fzCz7cC"
      }
    },
    {
      "cell_type": "code",
      "source": [
        "#Defining the transition matrix\n",
        "D=[2,2,2]\n",
        "state_space = [(i,j,k) for i in range(3) for j in range(3) for k in range(3)]#generating the state space\n",
        "generator = np.zeros((len(state_space),len(state_space)))#initialising the generator matrix\n",
        "for p in range(1,len(state_space)):\n",
        "  s = 0\n",
        "  for q in range (0,len(state_space)):\n",
        "    if (state_space[q][0] == state_space[p][0]-1) and (state_space[q][1] == state_space[p][1]+1) and (state_space[q][2] == state_space[p][2]): #(i-1,j+1,k)\n",
        "      generator[p,q] = b(0,state_space[p])\n",
        "      s += generator[p,q]\n",
        "    if (state_space[q][0] == state_space[p][0]) and (state_space[q][1] == state_space[p][1]-1) and (state_space[q][2] == state_space[p][2]+1): #(i,j-1,k+1)\n",
        "      generator[p,q] = b(1,state_space[p])\n",
        "      s += generator[p,q]\n",
        "    if (state_space[q][0] == state_space[p][0]) and (state_space[q][1] == state_space[p][1]+1) and (state_space[q][2] == state_space[p][2]-1): #(i,j+1,k-1)\n",
        "      generator[p,q] = b(2,state_space[p])\n",
        "      s += generator[p,q]\n",
        "  generator[p,p] = -s"
      ],
      "metadata": {
        "id": "Eym66bBH1tH0"
      },
      "execution_count": null,
      "outputs": []
    },
    {
      "cell_type": "code",
      "source": [
        "print(\"The infinitesimal generator A is\\n\",generator)"
      ],
      "metadata": {
        "id": "goo3Db3h5TrP",
        "outputId": "7bd2a744-2bc7-42aa-9311-4b8f30e7ada7",
        "colab": {
          "base_uri": "https://localhost:8080/"
        }
      },
      "execution_count": null,
      "outputs": [
        {
          "output_type": "stream",
          "name": "stdout",
          "text": [
            "The infinitesimal generator A is\n",
            " [[  0.           0.           0.           0.           0.\n",
            "    0.           0.           0.           0.           0.\n",
            "    0.           0.           0.           0.           0.\n",
            "    0.           0.           0.           0.           0.\n",
            "    0.           0.           0.           0.           0.\n",
            "    0.           0.        ]\n",
            " [  0.          -0.           0.           0.           0.\n",
            "    0.           0.           0.           0.           0.\n",
            "    0.           0.           0.           0.           0.\n",
            "    0.           0.           0.           0.           0.\n",
            "    0.           0.           0.           0.           0.\n",
            "    0.           0.        ]\n",
            " [  0.           0.          -0.           0.           0.\n",
            "    0.           0.           0.           0.           0.\n",
            "    0.           0.           0.           0.           0.\n",
            "    0.           0.           0.           0.           0.\n",
            "    0.           0.           0.           0.           0.\n",
            "    0.           0.        ]\n",
            " [  0.           0.           0.          -0.           0.\n",
            "    0.           0.           0.           0.           0.\n",
            "    0.           0.           0.           0.           0.\n",
            "    0.           0.           0.           0.           0.\n",
            "    0.           0.           0.           0.           0.\n",
            "    0.           0.        ]\n",
            " [  0.           0.           5.51819162   0.         -11.03638324\n",
            "    0.           5.51819162   0.           0.           0.\n",
            "    0.           0.           0.           0.           0.\n",
            "    0.           0.           0.           0.           0.\n",
            "    0.           0.           0.           0.           0.\n",
            "    0.           0.        ]\n",
            " [  0.           0.           0.           0.           0.\n",
            "   -5.51819162   0.           5.51819162   0.           0.\n",
            "    0.           0.           0.           0.           0.\n",
            "    0.           0.           0.           0.           0.\n",
            "    0.           0.           0.           0.           0.\n",
            "    0.           0.        ]\n",
            " [  0.           0.           0.           0.           0.\n",
            "    0.          -0.           0.           0.           0.\n",
            "    0.           0.           0.           0.           0.\n",
            "    0.           0.           0.           0.           0.\n",
            "    0.           0.           0.           0.           0.\n",
            "    0.           0.        ]\n",
            " [  0.           0.           0.           0.           0.\n",
            "    4.0600585    0.          -4.0600585    0.           0.\n",
            "    0.           0.           0.           0.           0.\n",
            "    0.           0.           0.           0.           0.\n",
            "    0.           0.           0.           0.           0.\n",
            "    0.           0.        ]\n",
            " [  0.           0.           0.           0.           0.\n",
            "    0.           0.           0.           0.           0.\n",
            "    0.           0.           0.           0.           0.\n",
            "    0.           0.           0.           0.           0.\n",
            "    0.           0.           0.           0.           0.\n",
            "    0.           0.        ]\n",
            " [  0.           0.           0.           0.           0.\n",
            "    0.           0.           0.           0.          -0.\n",
            "    0.           0.           0.           0.           0.\n",
            "    0.           0.           0.           0.           0.\n",
            "    0.           0.           0.           0.           0.\n",
            "    0.           0.        ]\n",
            " [  0.           0.           0.           0.           0.\n",
            "    0.           0.           0.           0.           0.\n",
            "   -0.           0.           0.           0.           0.\n",
            "    0.           0.           0.           0.           0.\n",
            "    0.           0.           0.           0.           0.\n",
            "    0.           0.        ]\n",
            " [  0.           0.           0.           0.           0.\n",
            "    0.           0.           0.           0.           0.\n",
            "    0.          -0.           0.           0.           0.\n",
            "    0.           0.           0.           0.           0.\n",
            "    0.           0.           0.           0.           0.\n",
            "    0.           0.        ]\n",
            " [  0.           0.           0.           0.           0.\n",
            "    0.           3.67879441   0.           0.           0.\n",
            "    0.           0.          -3.67879441   0.           0.\n",
            "    0.           0.           0.           0.           0.\n",
            "    0.           0.           0.           0.           0.\n",
            "    0.           0.        ]\n",
            " [  0.           0.           0.           0.           0.\n",
            "    0.           0.           3.67879441   0.           0.\n",
            "    0.           5.51819162   0.         -14.71517765   0.\n",
            "    5.51819162   0.           0.           0.           0.\n",
            "    0.           0.           0.           0.           0.\n",
            "    0.           0.        ]\n",
            " [  0.           0.           0.           0.           0.\n",
            "    0.           0.           0.           3.67879441   0.\n",
            "    0.           0.           0.           0.          -9.19698603\n",
            "    0.           5.51819162   0.           0.           0.\n",
            "    0.           0.           0.           0.           0.\n",
            "    0.           0.        ]\n",
            " [  0.           0.           0.           0.           0.\n",
            "    0.           0.           0.           0.           0.\n",
            "    0.           0.           0.           0.           0.\n",
            "   -0.           0.           0.           0.           0.\n",
            "    0.           0.           0.           0.           0.\n",
            "    0.           0.        ]\n",
            " [  0.           0.           0.           0.           0.\n",
            "    0.           0.           0.           0.           0.\n",
            "    0.           0.           0.           0.           4.0600585\n",
            "    0.          -4.0600585    0.           0.           0.\n",
            "    0.           0.           0.           0.           0.\n",
            "    0.           0.        ]\n",
            " [  0.           0.           0.           0.           0.\n",
            "    0.           0.           0.           0.           0.\n",
            "    0.           0.           0.           0.           0.\n",
            "    0.           0.           0.           0.           0.\n",
            "    0.           0.           0.           0.           0.\n",
            "    0.           0.        ]\n",
            " [  0.           0.           0.           0.           0.\n",
            "    0.           0.           0.           0.           0.\n",
            "    0.           0.           0.           0.           0.\n",
            "    0.           0.           0.          -0.           0.\n",
            "    0.           0.           0.           0.           0.\n",
            "    0.           0.        ]\n",
            " [  0.           0.           0.           0.           0.\n",
            "    0.           0.           0.           0.           0.\n",
            "    0.           0.           0.           0.           0.\n",
            "    0.           0.           0.           0.          -0.\n",
            "    0.           0.           0.           0.           0.\n",
            "    0.           0.        ]\n",
            " [  0.           0.           0.           0.           0.\n",
            "    0.           0.           0.           0.           0.\n",
            "    0.           0.           0.           0.           0.\n",
            "    0.           0.           0.           0.           0.\n",
            "   -0.           0.           0.           0.           0.\n",
            "    0.           0.        ]\n",
            " [  0.           0.           0.           0.           0.\n",
            "    0.           0.           0.           0.           0.\n",
            "    0.           0.           0.           0.           0.\n",
            "    2.70670566   0.           0.           0.           0.\n",
            "    0.          -2.70670566   0.           0.           0.\n",
            "    0.           0.        ]\n",
            " [  0.           0.           0.           0.           0.\n",
            "    0.           0.           0.           0.           0.\n",
            "    0.           0.           0.           0.           0.\n",
            "    0.           2.70670566   0.           0.           0.\n",
            "    5.51819162   0.         -13.7430889    0.           5.51819162\n",
            "    0.           0.        ]\n",
            " [  0.           0.           0.           0.           0.\n",
            "    0.           0.           0.           0.           0.\n",
            "    0.           0.           0.           0.           0.\n",
            "    0.           0.           2.70670566   0.           0.\n",
            "    0.           0.           0.          -8.22489728   0.\n",
            "    5.51819162   0.        ]\n",
            " [  0.           0.           0.           0.           0.\n",
            "    0.           0.           0.           0.           0.\n",
            "    0.           0.           0.           0.           0.\n",
            "    0.           0.           0.           0.           0.\n",
            "    0.           0.           0.           0.          -0.\n",
            "    0.           0.        ]\n",
            " [  0.           0.           0.           0.           0.\n",
            "    0.           0.           0.           0.           0.\n",
            "    0.           0.           0.           0.           0.\n",
            "    0.           0.           0.           0.           0.\n",
            "    0.           0.           0.           4.0600585    0.\n",
            "   -4.0600585    0.        ]\n",
            " [  0.           0.           0.           0.           0.\n",
            "    0.           0.           0.           0.           0.\n",
            "    0.           0.           0.           0.           0.\n",
            "    0.           0.           0.           0.           0.\n",
            "    0.           0.           0.           0.           0.\n",
            "    0.           0.        ]]\n"
          ]
        }
      ]
    },
    {
      "cell_type": "markdown",
      "source": [
        "The zero rows in this matrix are due to the transition rate $b_{x}(\\eta(x),\\eta(x+1))$ taking value 0 for some values of $x$ and $\\eta$. This is often due to the supply or demand functions $\\Sigma_{x}$ and $\\Delta_{x}$ taking the values 0 here."
      ],
      "metadata": {
        "id": "N1YAHn-lkw7B"
      }
    },
    {
      "cell_type": "markdown",
      "source": [
        "Next, we wish to define the matrix of transition probabilities $P_{t}$.\n",
        "\n",
        "---\n",
        "\n",
        "**Theorem**\n",
        "\n",
        "Let $u(t) = (\\mathbb{P}(\\eta_{t}=p))_{p \\in E}$. Then $u(t)$ satisfies the differential equation $u'(t) = u(t)A$, where $A$ is the infinitesimal generator such that $A_{xy} = \\lambda(x)P(x,y)$ if $y \\neq x$ and $A_{xx} = -\\lambda(x)$.\n",
        "\n",
        "---\n",
        "**Corollary**\n",
        "\n",
        "$\\forall t \\geq 0$,\n",
        "$$u(t) = u(0)e^{At}$$\n",
        "Hence $\\forall t \\geq 0, \\forall j \\geq 0$,\n",
        "$$\\mathbb{P}(X_{t}=j) = \\sum_{i \\in E}^{} \\mu_{0}(i) (e^{At})_{ij}$$\n",
        "which means\n",
        "$$\\mathbb{P}(X_{t}=j|X_{0}=i) = P_{t}(i,j) = \\mu_{0}(i) (e^{At})_{ij}$$\n",
        "where $\\mu_{0}$ denotes the initial distribution of the process\n",
        "\n",
        "---"
      ],
      "metadata": {
        "id": "aJFRNaOB7hl2"
      }
    },
    {
      "cell_type": "markdown",
      "source": [
        "We define a function to compute the matrix exponential $e^A$, acting on a vector $x$, using a series expansion and recursion for convergence. Then we utilise that function to generate the value of $e^{tA}$ for any given $t$."
      ],
      "metadata": {
        "id": "z5qPakecgXmF"
      }
    },
    {
      "cell_type": "code",
      "source": [
        "def exp(A, x):\n",
        "\n",
        "    Ax = A * x\n",
        "    if np.max(np.absolute(Ax)) > 1e-4:\n",
        "        sqrt = exp(A, x / 2) # Recursively call exp with A and x divided by 2\n",
        "        return sqrt @ sqrt\n",
        "    sq = Ax @ Ax\n",
        "    return np.eye(A.shape[0], dtype=np.float128) + Ax + sq / 2 + sq @ Ax / 6 # Return the exponential approximation using the Taylor series expansion\n",
        "\n",
        "exptA = exp(generator,2)"
      ],
      "metadata": {
        "id": "XLhf3DWJ1-dy"
      },
      "execution_count": null,
      "outputs": []
    },
    {
      "cell_type": "code",
      "source": [
        "print(exptA)"
      ],
      "metadata": {
        "id": "oao_rbB52A0x",
        "colab": {
          "base_uri": "https://localhost:8080/"
        },
        "outputId": "af48705a-d0d4-41db-e22d-f2897a4903a6"
      },
      "execution_count": null,
      "outputs": [
        {
          "output_type": "stream",
          "name": "stdout",
          "text": [
            "[[1.00000000e+00 0.00000000e+00 0.00000000e+00 0.00000000e+00\n",
            "  0.00000000e+00 0.00000000e+00 0.00000000e+00 0.00000000e+00\n",
            "  0.00000000e+00 0.00000000e+00 0.00000000e+00 0.00000000e+00\n",
            "  0.00000000e+00 0.00000000e+00 0.00000000e+00 0.00000000e+00\n",
            "  0.00000000e+00 0.00000000e+00 0.00000000e+00 0.00000000e+00\n",
            "  0.00000000e+00 0.00000000e+00 0.00000000e+00 0.00000000e+00\n",
            "  0.00000000e+00 0.00000000e+00 0.00000000e+00]\n",
            " [0.00000000e+00 1.00000000e+00 0.00000000e+00 0.00000000e+00\n",
            "  0.00000000e+00 0.00000000e+00 0.00000000e+00 0.00000000e+00\n",
            "  0.00000000e+00 0.00000000e+00 0.00000000e+00 0.00000000e+00\n",
            "  0.00000000e+00 0.00000000e+00 0.00000000e+00 0.00000000e+00\n",
            "  0.00000000e+00 0.00000000e+00 0.00000000e+00 0.00000000e+00\n",
            "  0.00000000e+00 0.00000000e+00 0.00000000e+00 0.00000000e+00\n",
            "  0.00000000e+00 0.00000000e+00 0.00000000e+00]\n",
            " [0.00000000e+00 0.00000000e+00 1.00000000e+00 0.00000000e+00\n",
            "  0.00000000e+00 0.00000000e+00 0.00000000e+00 0.00000000e+00\n",
            "  0.00000000e+00 0.00000000e+00 0.00000000e+00 0.00000000e+00\n",
            "  0.00000000e+00 0.00000000e+00 0.00000000e+00 0.00000000e+00\n",
            "  0.00000000e+00 0.00000000e+00 0.00000000e+00 0.00000000e+00\n",
            "  0.00000000e+00 0.00000000e+00 0.00000000e+00 0.00000000e+00\n",
            "  0.00000000e+00 0.00000000e+00 0.00000000e+00]\n",
            " [0.00000000e+00 0.00000000e+00 0.00000000e+00 1.00000000e+00\n",
            "  0.00000000e+00 0.00000000e+00 0.00000000e+00 0.00000000e+00\n",
            "  0.00000000e+00 0.00000000e+00 0.00000000e+00 0.00000000e+00\n",
            "  0.00000000e+00 0.00000000e+00 0.00000000e+00 0.00000000e+00\n",
            "  0.00000000e+00 0.00000000e+00 0.00000000e+00 0.00000000e+00\n",
            "  0.00000000e+00 0.00000000e+00 0.00000000e+00 0.00000000e+00\n",
            "  0.00000000e+00 0.00000000e+00 0.00000000e+00]\n",
            " [0.00000000e+00 0.00000000e+00 5.00000000e-01 0.00000000e+00\n",
            "  2.59369749e-10 0.00000000e+00 5.00000000e-01 0.00000000e+00\n",
            "  0.00000000e+00 0.00000000e+00 0.00000000e+00 0.00000000e+00\n",
            "  0.00000000e+00 0.00000000e+00 0.00000000e+00 0.00000000e+00\n",
            "  0.00000000e+00 0.00000000e+00 0.00000000e+00 0.00000000e+00\n",
            "  0.00000000e+00 0.00000000e+00 0.00000000e+00 0.00000000e+00\n",
            "  0.00000000e+00 0.00000000e+00 0.00000000e+00]\n",
            " [0.00000000e+00 0.00000000e+00 0.00000000e+00 0.00000000e+00\n",
            "  0.00000000e+00 4.23883118e-01 0.00000000e+00 5.76116882e-01\n",
            "  0.00000000e+00 0.00000000e+00 0.00000000e+00 0.00000000e+00\n",
            "  0.00000000e+00 0.00000000e+00 0.00000000e+00 0.00000000e+00\n",
            "  0.00000000e+00 0.00000000e+00 0.00000000e+00 0.00000000e+00\n",
            "  0.00000000e+00 0.00000000e+00 0.00000000e+00 0.00000000e+00\n",
            "  0.00000000e+00 0.00000000e+00 0.00000000e+00]\n",
            " [0.00000000e+00 0.00000000e+00 0.00000000e+00 0.00000000e+00\n",
            "  0.00000000e+00 0.00000000e+00 1.00000000e+00 0.00000000e+00\n",
            "  0.00000000e+00 0.00000000e+00 0.00000000e+00 0.00000000e+00\n",
            "  0.00000000e+00 0.00000000e+00 0.00000000e+00 0.00000000e+00\n",
            "  0.00000000e+00 0.00000000e+00 0.00000000e+00 0.00000000e+00\n",
            "  0.00000000e+00 0.00000000e+00 0.00000000e+00 0.00000000e+00\n",
            "  0.00000000e+00 0.00000000e+00 0.00000000e+00]\n",
            " [0.00000000e+00 0.00000000e+00 0.00000000e+00 0.00000000e+00\n",
            "  0.00000000e+00 4.23883113e-01 0.00000000e+00 5.76116887e-01\n",
            "  0.00000000e+00 0.00000000e+00 0.00000000e+00 0.00000000e+00\n",
            "  0.00000000e+00 0.00000000e+00 0.00000000e+00 0.00000000e+00\n",
            "  0.00000000e+00 0.00000000e+00 0.00000000e+00 0.00000000e+00\n",
            "  0.00000000e+00 0.00000000e+00 0.00000000e+00 0.00000000e+00\n",
            "  0.00000000e+00 0.00000000e+00 0.00000000e+00]\n",
            " [0.00000000e+00 0.00000000e+00 0.00000000e+00 0.00000000e+00\n",
            "  0.00000000e+00 0.00000000e+00 0.00000000e+00 0.00000000e+00\n",
            "  1.00000000e+00 0.00000000e+00 0.00000000e+00 0.00000000e+00\n",
            "  0.00000000e+00 0.00000000e+00 0.00000000e+00 0.00000000e+00\n",
            "  0.00000000e+00 0.00000000e+00 0.00000000e+00 0.00000000e+00\n",
            "  0.00000000e+00 0.00000000e+00 0.00000000e+00 0.00000000e+00\n",
            "  0.00000000e+00 0.00000000e+00 0.00000000e+00]\n",
            " [0.00000000e+00 0.00000000e+00 0.00000000e+00 0.00000000e+00\n",
            "  0.00000000e+00 0.00000000e+00 0.00000000e+00 0.00000000e+00\n",
            "  0.00000000e+00 1.00000000e+00 0.00000000e+00 0.00000000e+00\n",
            "  0.00000000e+00 0.00000000e+00 0.00000000e+00 0.00000000e+00\n",
            "  0.00000000e+00 0.00000000e+00 0.00000000e+00 0.00000000e+00\n",
            "  0.00000000e+00 0.00000000e+00 0.00000000e+00 0.00000000e+00\n",
            "  0.00000000e+00 0.00000000e+00 0.00000000e+00]\n",
            " [0.00000000e+00 0.00000000e+00 0.00000000e+00 0.00000000e+00\n",
            "  0.00000000e+00 0.00000000e+00 0.00000000e+00 0.00000000e+00\n",
            "  0.00000000e+00 0.00000000e+00 1.00000000e+00 0.00000000e+00\n",
            "  0.00000000e+00 0.00000000e+00 0.00000000e+00 0.00000000e+00\n",
            "  0.00000000e+00 0.00000000e+00 0.00000000e+00 0.00000000e+00\n",
            "  0.00000000e+00 0.00000000e+00 0.00000000e+00 0.00000000e+00\n",
            "  0.00000000e+00 0.00000000e+00 0.00000000e+00]\n",
            " [0.00000000e+00 0.00000000e+00 0.00000000e+00 0.00000000e+00\n",
            "  0.00000000e+00 0.00000000e+00 0.00000000e+00 0.00000000e+00\n",
            "  0.00000000e+00 0.00000000e+00 0.00000000e+00 1.00000000e+00\n",
            "  0.00000000e+00 0.00000000e+00 0.00000000e+00 0.00000000e+00\n",
            "  0.00000000e+00 0.00000000e+00 0.00000000e+00 0.00000000e+00\n",
            "  0.00000000e+00 0.00000000e+00 0.00000000e+00 0.00000000e+00\n",
            "  0.00000000e+00 0.00000000e+00 0.00000000e+00]\n",
            " [0.00000000e+00 0.00000000e+00 0.00000000e+00 0.00000000e+00\n",
            "  0.00000000e+00 0.00000000e+00 9.99362266e-01 0.00000000e+00\n",
            "  0.00000000e+00 0.00000000e+00 0.00000000e+00 0.00000000e+00\n",
            "  6.37734297e-04 0.00000000e+00 0.00000000e+00 0.00000000e+00\n",
            "  0.00000000e+00 0.00000000e+00 0.00000000e+00 0.00000000e+00\n",
            "  0.00000000e+00 0.00000000e+00 0.00000000e+00 0.00000000e+00\n",
            "  0.00000000e+00 0.00000000e+00 0.00000000e+00]\n",
            " [0.00000000e+00 0.00000000e+00 0.00000000e+00 0.00000000e+00\n",
            "  0.00000000e+00 1.05970777e-01 0.00000000e+00 1.44029223e-01\n",
            "  0.00000000e+00 0.00000000e+00 0.00000000e+00 3.75000000e-01\n",
            "  0.00000000e+00 1.65408985e-13 0.00000000e+00 3.75000000e-01\n",
            "  0.00000000e+00 0.00000000e+00 0.00000000e+00 0.00000000e+00\n",
            "  0.00000000e+00 0.00000000e+00 0.00000000e+00 0.00000000e+00\n",
            "  0.00000000e+00 0.00000000e+00 0.00000000e+00]\n",
            " [0.00000000e+00 0.00000000e+00 0.00000000e+00 0.00000000e+00\n",
            "  0.00000000e+00 0.00000000e+00 0.00000000e+00 0.00000000e+00\n",
            "  9.35613173e-01 0.00000000e+00 0.00000000e+00 0.00000000e+00\n",
            "  0.00000000e+00 0.00000000e+00 2.17595052e-02 0.00000000e+00\n",
            "  4.26273218e-02 0.00000000e+00 0.00000000e+00 0.00000000e+00\n",
            "  0.00000000e+00 0.00000000e+00 0.00000000e+00 0.00000000e+00\n",
            "  0.00000000e+00 0.00000000e+00 0.00000000e+00]\n",
            " [0.00000000e+00 0.00000000e+00 0.00000000e+00 0.00000000e+00\n",
            "  0.00000000e+00 0.00000000e+00 0.00000000e+00 0.00000000e+00\n",
            "  0.00000000e+00 0.00000000e+00 0.00000000e+00 0.00000000e+00\n",
            "  0.00000000e+00 0.00000000e+00 0.00000000e+00 1.00000000e+00\n",
            "  0.00000000e+00 0.00000000e+00 0.00000000e+00 0.00000000e+00\n",
            "  0.00000000e+00 0.00000000e+00 0.00000000e+00 0.00000000e+00\n",
            "  0.00000000e+00 0.00000000e+00 0.00000000e+00]\n",
            " [0.00000000e+00 0.00000000e+00 0.00000000e+00 0.00000000e+00\n",
            "  0.00000000e+00 0.00000000e+00 0.00000000e+00 0.00000000e+00\n",
            "  9.07194958e-01 0.00000000e+00 0.00000000e+00 0.00000000e+00\n",
            "  0.00000000e+00 0.00000000e+00 3.13634307e-02 0.00000000e+00\n",
            "  6.14416110e-02 0.00000000e+00 0.00000000e+00 0.00000000e+00\n",
            "  0.00000000e+00 0.00000000e+00 0.00000000e+00 0.00000000e+00\n",
            "  0.00000000e+00 0.00000000e+00 0.00000000e+00]\n",
            " [0.00000000e+00 0.00000000e+00 0.00000000e+00 0.00000000e+00\n",
            "  0.00000000e+00 0.00000000e+00 0.00000000e+00 0.00000000e+00\n",
            "  0.00000000e+00 0.00000000e+00 0.00000000e+00 0.00000000e+00\n",
            "  0.00000000e+00 0.00000000e+00 0.00000000e+00 0.00000000e+00\n",
            "  0.00000000e+00 1.00000000e+00 0.00000000e+00 0.00000000e+00\n",
            "  0.00000000e+00 0.00000000e+00 0.00000000e+00 0.00000000e+00\n",
            "  0.00000000e+00 0.00000000e+00 0.00000000e+00]\n",
            " [0.00000000e+00 0.00000000e+00 0.00000000e+00 0.00000000e+00\n",
            "  0.00000000e+00 0.00000000e+00 0.00000000e+00 0.00000000e+00\n",
            "  0.00000000e+00 0.00000000e+00 0.00000000e+00 0.00000000e+00\n",
            "  0.00000000e+00 0.00000000e+00 0.00000000e+00 0.00000000e+00\n",
            "  0.00000000e+00 0.00000000e+00 1.00000000e+00 0.00000000e+00\n",
            "  0.00000000e+00 0.00000000e+00 0.00000000e+00 0.00000000e+00\n",
            "  0.00000000e+00 0.00000000e+00 0.00000000e+00]\n",
            " [0.00000000e+00 0.00000000e+00 0.00000000e+00 0.00000000e+00\n",
            "  0.00000000e+00 0.00000000e+00 0.00000000e+00 0.00000000e+00\n",
            "  0.00000000e+00 0.00000000e+00 0.00000000e+00 0.00000000e+00\n",
            "  0.00000000e+00 0.00000000e+00 0.00000000e+00 0.00000000e+00\n",
            "  0.00000000e+00 0.00000000e+00 0.00000000e+00 1.00000000e+00\n",
            "  0.00000000e+00 0.00000000e+00 0.00000000e+00 0.00000000e+00\n",
            "  0.00000000e+00 0.00000000e+00 0.00000000e+00]\n",
            " [0.00000000e+00 0.00000000e+00 0.00000000e+00 0.00000000e+00\n",
            "  0.00000000e+00 0.00000000e+00 0.00000000e+00 0.00000000e+00\n",
            "  0.00000000e+00 0.00000000e+00 0.00000000e+00 0.00000000e+00\n",
            "  0.00000000e+00 0.00000000e+00 0.00000000e+00 0.00000000e+00\n",
            "  0.00000000e+00 0.00000000e+00 0.00000000e+00 0.00000000e+00\n",
            "  1.00000000e+00 0.00000000e+00 0.00000000e+00 0.00000000e+00\n",
            "  0.00000000e+00 0.00000000e+00 0.00000000e+00]\n",
            " [0.00000000e+00 0.00000000e+00 0.00000000e+00 0.00000000e+00\n",
            "  0.00000000e+00 0.00000000e+00 0.00000000e+00 0.00000000e+00\n",
            "  0.00000000e+00 0.00000000e+00 0.00000000e+00 0.00000000e+00\n",
            "  0.00000000e+00 0.00000000e+00 0.00000000e+00 9.95543588e-01\n",
            "  0.00000000e+00 0.00000000e+00 0.00000000e+00 0.00000000e+00\n",
            "  0.00000000e+00 4.45641196e-03 0.00000000e+00 0.00000000e+00\n",
            "  0.00000000e+00 0.00000000e+00 0.00000000e+00]\n",
            " [0.00000000e+00 0.00000000e+00 0.00000000e+00 0.00000000e+00\n",
            "  0.00000000e+00 0.00000000e+00 0.00000000e+00 0.00000000e+00\n",
            "  1.76854384e-01 0.00000000e+00 0.00000000e+00 0.00000000e+00\n",
            "  0.00000000e+00 0.00000000e+00 6.79141206e-03 0.00000000e+00\n",
            "  1.33045171e-02 0.00000000e+00 0.00000000e+00 0.00000000e+00\n",
            "  4.01524843e-01 0.00000000e+00 1.15585845e-12 0.00000000e+00\n",
            "  4.01524843e-01 0.00000000e+00 0.00000000e+00]\n",
            " [0.00000000e+00 0.00000000e+00 0.00000000e+00 0.00000000e+00\n",
            "  0.00000000e+00 0.00000000e+00 0.00000000e+00 0.00000000e+00\n",
            "  0.00000000e+00 0.00000000e+00 0.00000000e+00 0.00000000e+00\n",
            "  0.00000000e+00 0.00000000e+00 0.00000000e+00 0.00000000e+00\n",
            "  0.00000000e+00 8.80729051e-01 0.00000000e+00 0.00000000e+00\n",
            "  0.00000000e+00 0.00000000e+00 0.00000000e+00 4.28021515e-02\n",
            "  0.00000000e+00 7.64687976e-02 0.00000000e+00]\n",
            " [0.00000000e+00 0.00000000e+00 0.00000000e+00 0.00000000e+00\n",
            "  0.00000000e+00 0.00000000e+00 0.00000000e+00 0.00000000e+00\n",
            "  0.00000000e+00 0.00000000e+00 0.00000000e+00 0.00000000e+00\n",
            "  0.00000000e+00 0.00000000e+00 0.00000000e+00 0.00000000e+00\n",
            "  0.00000000e+00 0.00000000e+00 0.00000000e+00 0.00000000e+00\n",
            "  0.00000000e+00 0.00000000e+00 0.00000000e+00 0.00000000e+00\n",
            "  1.00000000e+00 0.00000000e+00 0.00000000e+00]\n",
            " [0.00000000e+00 0.00000000e+00 0.00000000e+00 0.00000000e+00\n",
            "  0.00000000e+00 0.00000000e+00 0.00000000e+00 0.00000000e+00\n",
            "  0.00000000e+00 0.00000000e+00 0.00000000e+00 0.00000000e+00\n",
            "  0.00000000e+00 0.00000000e+00 0.00000000e+00 0.00000000e+00\n",
            "  0.00000000e+00 8.43220653e-01 0.00000000e+00 0.00000000e+00\n",
            "  0.00000000e+00 0.00000000e+00 0.00000000e+00 5.62625970e-02\n",
            "  0.00000000e+00 1.00516750e-01 0.00000000e+00]\n",
            " [0.00000000e+00 0.00000000e+00 0.00000000e+00 0.00000000e+00\n",
            "  0.00000000e+00 0.00000000e+00 0.00000000e+00 0.00000000e+00\n",
            "  0.00000000e+00 0.00000000e+00 0.00000000e+00 0.00000000e+00\n",
            "  0.00000000e+00 0.00000000e+00 0.00000000e+00 0.00000000e+00\n",
            "  0.00000000e+00 0.00000000e+00 0.00000000e+00 0.00000000e+00\n",
            "  0.00000000e+00 0.00000000e+00 0.00000000e+00 0.00000000e+00\n",
            "  0.00000000e+00 0.00000000e+00 1.00000000e+00]]\n"
          ]
        }
      ]
    },
    {
      "cell_type": "markdown",
      "source": [
        "We can multiply the entries of the obtained matrix exponential above with $\\mu_{0}(i)$ (where i denotes the initial state) to obtain the transition matrix $P_{t}$."
      ],
      "metadata": {
        "id": "v3KwyXK-LCOn"
      }
    },
    {
      "cell_type": "markdown",
      "source": [
        "## **Special Case: Single Section With Open Boundaries**\n",
        "\n",
        "We now limit ourselves to the analysis of a single section with open boundaries, containing n vehicles and having an entry rate of $\\lambda(n)$ and an exit rate of $\\mu(n)$. We denote the markov jump process defining the number of vehicles in this section at any instant $t \\in \\mathbb{R}^{+}$ by $\\eta_{t}$, and the maximum number of vehicles (capacity) of this section by N. We define the entry and exit rates for the section respectively as:\n",
        "$$\\lambda(n)=\\text{min}\\left\\{\\alpha,\\Sigma\\left(\\frac{n}{D}\\right)\\right\\}$$\n",
        "$$\\mu(n) = \\text{min}\\left\\{\\Delta\\left(\\frac{n}{D}\\right),\\beta\\right\\}$$\n"
      ],
      "metadata": {
        "id": "rgUf9uVauVoE"
      }
    },
    {
      "cell_type": "markdown",
      "source": [
        "![n.png](data:image/png;base64,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)\n"
      ],
      "metadata": {
        "id": "TeUWhBDc6zZT"
      }
    },
    {
      "cell_type": "markdown",
      "source": [
        "###**Assumptions:**\n",
        "**1)** We take $\\alpha$ to be the maximal fow volume of the section.(upstream demand)\n",
        "\n",
        "**2)** We take $\\beta$ to be the mean flow volume of the section.(downstream supply)\n",
        "\n",
        "**3)** $\\Delta$ and $\\Sigma$ represent the demand and supply of the section as defined earlier.\n",
        "\n",
        "**CLAIM**: The markov process is irreducible since for all states x and y, $\\mathbb{P}(\\eta_{t}=y|\\eta_{0}=x) = P_{t}(x,y) > 0 $ for some $t>0$.\n",
        "\n",
        "\n",
        "**PROOF:** Let $\\eta_{0} = x \\in E$.\n",
        "\n",
        "We want to prove that $\\forall y \\in E$ such that $y \\neq x$ and $0 \\leq y \\leq D$, where $D$ denotes the maximum capacity of the section (in terms of number of vehicles),\n",
        "$$\\mathbb{P}(\\eta_{t}=y|\\eta_{0}=x)>0 \\text{ for some } t>0$$\n",
        "We take $y \\neq x$ since this is a markov jump process and jumps can only happen to some state different from the current one.\n",
        "\n",
        "*Case 1:* $y>x$\n",
        "\n",
        "To show:\n",
        "$$\\exists t>0 \\text{ such that } \\mathbb{P}(\\eta_{t}=y|\\eta_{0}=x)>0$$\n",
        "\n",
        "We claim that this holds for $t = T_{y-x}$.\n",
        "\n",
        "$$\\mathbb{P}(\\eta_{T_{y-x}}=y|\\eta_{0}=x) > \\mathbb{P}(\\eta_{T_{y-x}}=y|\\eta_{T_{y-x-1}}=y-1, \\ldots, \\eta_{0}=x) \\mathbb{P}(\\eta_{T_{y-x-1}}=y-1|\\eta_{T_{y-x-2}}=y-2,\\ldots,\\eta_{0}=x) \\ldots \\mathbb{P}(\\eta_{T_{1}}=x+1|\\eta_{0}=x) > 0$$\n",
        "\n",
        "Using the Markov property,\n",
        "\n",
        "$$ = \\mathbb{P}(\\eta_{T_{y-x}}=y|\\eta_{T_{y-x-1}}=y-1) \\mathbb{P}(\\eta_{T_{y-x-1}}=y-1|\\eta_{T_{y-x-2}}=y-2) \\ldots \\mathbb{P}(\\eta_{T_{1}}=x+1|\\eta_{0}=x) ⟶ (*)$$\n",
        "\n",
        "The last inequality follows since $\\forall x \\in E$,\n",
        "$$\\mathbb{P}(\\eta_{T_{1}}=x+1|\\eta_{0}=x) = \\mathbb{P}(T_{1}-T_{0}<Y_{1})=\\mathbb{P}(X_{1}<Y_{1}) ⟶ (**)$$\n",
        "\n",
        "where $X_{1}=T_{1}-T_{0}$ denotes the first arrival time (first jump time increment) following $Exp(\\lambda)$ and $Y_{1}$ denotes the first departure time following $Exp(\\mu)$.\n",
        "\n",
        "The last equality in $(**)$ is true as when we are going from $x$ to $x+1$ in only one jump, then the interarrival time would be surely less than the first time to depart (since then the cars in the system would reduce by 1), i.e., the interarrival time is less than the departure time of the first car. But the interarrival time between the first two jumps would be $T_1-T_0$ and the first departure time would be $Y_1$.\n",
        "\n",
        "Also, we know that\n",
        "\n",
        "$$\\mathbb{P}(X_{1}< Y_{1}) = \\int_{0}^{\\infty}\\int_{0}^{y}\\lambda e^{-\\lambda x}\\mu e^{-\\mu y}dx dy = \\frac{\\lambda}{\\lambda+\\mu} > 0$$\n",
        "\n",
        "Again, using the Markov property, each of the terms in $(*)$ is greater than 0 and so, $\\mathbb{P}(\\eta_{T_{y-x}}=y|\\eta_{0}=x) > 0$.\n",
        "\n",
        "\n",
        "\n",
        "*Case 2:* $y<x$\n",
        "\n",
        "This can be handled similarly, using the fact that,\n",
        "\n",
        "$$\\mathbb{P}(Y_{1}< X_{1}) = \\int_{0}^{\\infty}\\int_{0}^{x}\\lambda e^{-\\lambda x}\\mu e^{-\\mu y}dx dy = \\frac{\\mu}{\\lambda+\\mu} > 0$$\n",
        "\n",
        "We have hence proved that the Markov process is irreducible.\n",
        "\n",
        "Moreover, since the state space $E = \\{0,1,\\ldots,N\\}$ is finite, the markov process is positive recurrent and hence admits a unique stationary probability $m$."
      ],
      "metadata": {
        "id": "A4fXe8x_LIbK"
      }
    },
    {
      "cell_type": "markdown",
      "source": [
        "From the definition of ergodic behaviour as done in class, we know that:\n",
        "\n",
        "\n",
        "---\n",
        "\n",
        "\n",
        "***Theorem:***\n",
        "There exists $C, \\lambda >0$ such that $\\forall t \\geq 0 $ and any initial condition $\\eta_{0}$, the following holds:\n",
        "$$\\sum_{y \\in E}\\vert \\mathbb{P}(\\eta_{t}=y \\vert \\eta_{0}=x)- m(y)   \\vert \\leq Ce^{-\\lambda t}$$\n",
        "\n",
        "\n",
        "---\n",
        "\n",
        "\n",
        "As t $→ \\infty$ the error term $Ce^{-\\lambda t}$ goes to $0$ and hence we have,\n",
        "\n",
        "$$m(n) = \\lim_{{t \\to \\infty}}\\mathbb{P}_{x}({\\eta_{t} = n})\\hspace{1cm}∀ 0 \\leq n \\leq D$$\n",
        "\n",
        "The distribution is reversible for the process. One has:\n",
        "\n",
        "---\n",
        "\n",
        "\n",
        "***Definition:***\n",
        "\n",
        "A distribution $\\pi_{i}$ is said to be reversible if $\\forall i,j \\in E$,\n",
        "$$\\pi_i q_{ij} = \\pi_j q_{ji}$$\n",
        "\n",
        "Where $q_{ij}$ represents the transition rate from state *i* to state *j* in one unit of time.\n",
        "\n",
        "\n",
        "\n",
        "---\n",
        " For our process, the distribution m is reversible. Hence, we have:\n",
        "\n",
        "$$m(n-1)λ(n-1) = m(n)μ(n) \\hspace{1cm} ∀ n = 1, . . . , D$$\n",
        "\n",
        "\n",
        "One obtains : $$m(n) = m(0)\\prod_{i=1}^{n} \\frac{\\lambda(i-1)}{\\mu(i)}\\hspace{1cm} ∀1\\leq n\\leq D$$\n",
        "\n",
        " with $$m(0) = \\frac{1}{1+\\sum_{n=1}^{N}\\prod_{i=1}^{n}\\frac{\\lambda(i-1)}{\\mu(i)}}$$\n",
        "\n",
        "A is the generator matrix given by:\n",
        "\n",
        "$$A = \\begin{bmatrix}\n",
        "-\\lambda(0) & \\lambda(0) & 0\\\\\n",
        "\\mu(1) & -\\lambda(1)-\\mu(1) & \\lambda(1)\\\\\n",
        "0 & \\mu(2) & -\\mu(2)\n",
        "\\end{bmatrix}$$\n",
        "\n",
        "The columns and rows in this matrix represent the state space(number of cars possible in the section). We take one row at a time and calculate the elements corresponding to that row for every column by calculating the entry or exit rate for the transition from the state in the row to that of the column. The diagonal elements are taken as the negative sum of the rest of the elements in the row, by the usual definition of a generator matrix.\n"
      ],
      "metadata": {
        "id": "HKy_aeJC-A6r"
      }
    },
    {
      "cell_type": "markdown",
      "source": [
        "Let us consider, $$m = [m(1)\\hspace{0.3cm}m(2)\\hspace{0.3cm}m(3)]$$\n",
        "\n",
        "---\n",
        "\n",
        "\n",
        "***Theorem:***\n",
        "Let $m$ be the stationary distribution and $A$ be the generator matrix of a continuous-time Markov process. Then,\n",
        "\n",
        "$$mA=0$$\n",
        "\n",
        "$0$ represents the zero matrix.\n",
        "\n",
        "---\n",
        "\n",
        "We calculate the value of $m$ using the equation $mA=0$, as follows:\n",
        "\n",
        "$$\\begin{bmatrix}\n",
        "m(1) & m(2) & m(3)\\\\\n",
        "\\end{bmatrix}\n",
        "\\begin{bmatrix}\n",
        "-\\lambda(0) & \\lambda(0) & 0\\\\\n",
        "\\mu(1) & -\\lambda(1)-\\mu(1) & \\lambda(1)\\\\\n",
        "0 & \\mu(2) & -\\mu(2)\n",
        "\\end{bmatrix}=0$$\n",
        "\n",
        "We observe that $A$ does not contain the values $\\lambda(2)$ and $\\mu(0)$.\n",
        "\n",
        "From this we get three equations:\n",
        "\n",
        "$$-\\lambda(0)m(1) + \\mu(1)m(2) = 0 ⟶(I)$$\n",
        "\n",
        "$$\\lambda(0)m(1) + (-\\lambda(1)-\\mu(1))m(2) + \\mu(2)m(3) = 0⟶(II)$$\n",
        "\n",
        "$$\\lambda(1)m(2) - \\mu(2)m(3) = 0⟶(III)$$\n",
        "\n",
        "Solving these, we get the following values:\n",
        "$$m(1) = \\frac{\\mu(1)}{\\lambda(0)\\left( 1 + \\frac{\\lambda(1)}{\\mu(2)} + \\frac{\\mu(1)}{\\lambda(0)}  \\right)}$$\n",
        "\n",
        "$$m(2) = \\frac{1}{1 + \\frac{\\lambda(1)}{\\mu(2)} + \\frac{\\mu(1)}{\\lambda(0)}}$$\n",
        "\n",
        "$$m(3) = \\frac{\\lambda(1)}{\\mu(2)\\left( 1 + \\frac{\\lambda(1)}{\\mu(2)} + \\frac{\\mu(1)}{\\lambda(0)}\\right )}$$"
      ],
      "metadata": {
        "id": "sMrDOOHbRL6j"
      }
    },
    {
      "cell_type": "markdown",
      "source": [
        "Using the following initial conditions we can estimate the value of $m$.\n",
        "\n",
        "We consider:\n",
        "\n",
        "\n",
        "*   $D$(maximum number of cars in the section) = $2$\n",
        "\n",
        "*   $\\eta_0$(initial number of cars in the section) $=1$\n",
        "\n",
        "*   $T $(maximum global time) $= 50$\n",
        "\n",
        "*   $\\alpha = Q(\\rho_{cr})$ (maximal flow volume)\n",
        "\n",
        "*   $\\beta = Q(\\rho_{cr})/2$ (mean flow volume)\n",
        "\n",
        "*   $n = 0,1,2$\n",
        "\n",
        "From these values we get:\n",
        "\n",
        "* $\\lambda(1) = 1.83939$\n",
        "\n",
        "* $\\lambda(0) = 1.83939$\n",
        "\n",
        "* $\\mu(1) = 0.91969$\n",
        "\n",
        "* $\\mu(2) = 0.91969$\n",
        "\n",
        "\n",
        "We have seen that the infinitesimal generator $A$ of this process contains only the values $\\lambda(0)$, $\\lambda(1)$, $\\mu(0)$ and $\\mu(1)$. From above we observe that in our case, $\\lambda(1) = \\lambda(0)$ and $\\mu(1) = \\mu(2)$. Hence, we can take the entry and departure rates to be constant equal to $\\alpha$ and $\\beta$ respectively.\n",
        "\n",
        "\n",
        "Substituting the values of $\\lambda(0), \\lambda(1), \\mu(0), \\mu(1)$ in the obtained values of m above, we get\n",
        "\n",
        "$$m(0) = 0.14285$$\n",
        "$$m(1) = 0.2857$$\n",
        "$$m(2) = 0.5714$$\n",
        "\n",
        "$\\therefore$ $$m = [0.14285 \\hspace{0.3cm} 0.2857 \\hspace{0.3cm} 0.5714]$$\n",
        "\n",
        "---"
      ],
      "metadata": {
        "id": "qwSyeQZvKOOD"
      }
    },
    {
      "cell_type": "markdown",
      "source": [
        "\n",
        "We now try to define a function m for the stationary probability that takes as parameters n and D, that is the maximum number of vehicles that can be accommodated in the section. To do so, we use the formula as defined previously:\n",
        "$$m(n) = m(0)\\prod_{i=1}^{n} \\frac{\\lambda(i-1)}{\\mu(i)}\\hspace{1cm} ∀1\\leq n\\leq 2$$"
      ],
      "metadata": {
        "id": "mdjo69TFONWm"
      }
    },
    {
      "cell_type": "code",
      "execution_count": null,
      "metadata": {
        "id": "tdiLlbDOhJd5"
      },
      "outputs": [],
      "source": [
        "#Defining the flow volume, demand, supply and transition rate functions for this case of a single section of the road.\n",
        "\n",
        "cst=2 #parameter of sensitivity for definition of Q\n",
        "rho_cr=1/cst #density threshold for which flow volume Q(rho) is maximal\n",
        "V=10\n",
        "\n",
        "def Q(rho): #defining the flow volume function\n",
        "        return V*rho*math.exp(-cst*rho)\n",
        "\n",
        "def delta(rho): #defining the demand function\n",
        "        initial_g=0\n",
        "        if rho<rho_cr:\n",
        "            return Q(rho)\n",
        "        else:\n",
        "            result = minimize(lambda y: -Q(y), initial_g)\n",
        "            return -result.fun\n",
        "def sigma(rho): #defining the supply function\n",
        "        initial_g=0\n",
        "        if rho<rho_cr:\n",
        "            result = minimize(lambda y: -Q(y), initial_g)\n",
        "            return -result.fun\n",
        "        else:\n",
        "            return Q(rho)"
      ]
    },
    {
      "cell_type": "code",
      "source": [
        "def m(n,D):#definition of the stationary distribution\n",
        "  alpha = Q(rho_cr)\n",
        "  beta = Q(rho_cr)/2\n",
        "  m_0 = 0\n",
        "  for i in range(1,D+1):\n",
        "    product = 1\n",
        "    for j in range (1,i+1):\n",
        "      l = np.min([alpha,sigma((j-1)/D)])#lambda\n",
        "      m = np.min([beta,delta(j/D)])#mu\n",
        "      product = product*(l/m)\n",
        "    m_0+=product\n",
        "  m_n = 1/(1+m_0)#definition fo m(0), initialising m(n)\n",
        "  for i in range(1,n+1):\n",
        "    l = np.min([alpha,sigma((i-1)/D)])\n",
        "    m = np.min([beta,delta(i/D)])\n",
        "    m_n = m_n*(l/m)\n",
        "  return m_n"
      ],
      "metadata": {
        "id": "YhWVM6IKCyBt"
      },
      "execution_count": null,
      "outputs": []
    },
    {
      "cell_type": "markdown",
      "source": [
        "We compute the values of $m$, for $n = 0,1,2$ using the function defined here and observe that they coincide with our values of m(0), m(1), and m(2) computed by hand using the equation $mA = 0$."
      ],
      "metadata": {
        "id": "68bXcwDKo0YS"
      }
    },
    {
      "cell_type": "code",
      "source": [
        "print(\"First element of the stationary distribution m(0):\",m(0,2))"
      ],
      "metadata": {
        "colab": {
          "base_uri": "https://localhost:8080/"
        },
        "id": "xClrs2MNo_1q",
        "outputId": "78b31e63-2531-4ae8-f391-0a6cef1fbf7c"
      },
      "execution_count": null,
      "outputs": [
        {
          "output_type": "stream",
          "name": "stdout",
          "text": [
            "First element of the stationary distribution m(0): 0.14285714285714413\n"
          ]
        }
      ]
    },
    {
      "cell_type": "code",
      "source": [
        "print(\"Second element of the stationary distribution m(1):\",m(1,2))"
      ],
      "metadata": {
        "colab": {
          "base_uri": "https://localhost:8080/"
        },
        "id": "f3xkJR5MFHLl",
        "outputId": "be6f0207-b9de-4bb3-c5ab-6aaaff0e1bb0"
      },
      "execution_count": null,
      "outputs": [
        {
          "output_type": "stream",
          "name": "stdout",
          "text": [
            "Second element of the stationary distribution m(1): 0.28571428571428525\n"
          ]
        }
      ]
    },
    {
      "cell_type": "code",
      "source": [
        "print(\"Third element of the stationary distribution m(2):\",m(2,2))"
      ],
      "metadata": {
        "colab": {
          "base_uri": "https://localhost:8080/"
        },
        "id": "kc70JeptpF7z",
        "outputId": "e05f2cba-aeb7-4a26-a6ac-23dbaa282645"
      },
      "execution_count": null,
      "outputs": [
        {
          "output_type": "stream",
          "name": "stdout",
          "text": [
            "Third element of the stationary distribution m(2): 0.5714285714285705\n"
          ]
        }
      ]
    },
    {
      "cell_type": "markdown",
      "source": [
        "### Monte Carlo Approximation of the Stationary Probability"
      ],
      "metadata": {
        "id": "gn40feQYP3Uf"
      }
    },
    {
      "cell_type": "markdown",
      "source": [
        "We now use the monte carlo approach to obtain an approximation of the stationary probability m. As we know from the theorems stated above that $\\mathbb{P}(\\eta_{t}=n|\\eta_{0}=i) \\xrightarrow{t \\to \\infty} m(n)$. Since\n",
        "\n",
        "$$\\mathbb{P}(\\eta_{t}=n|\\eta_{0}=i) = \\mathbb{E}_{i}(\\mathbb{1}_{\\eta_{t}=n})$$\n",
        "and from the law of large numbers,\n",
        "$$\\frac{1}{N}\\sum_{k=1}^{N}\\mathbb{1}_{\\eta_{t}^{k}=n} \\xrightarrow{N \\to \\infty} \\mathbb{E}_{i}(\\mathbb{1}_{\\eta_{t}^{1}=n}) \\; \\text{a.s.}$$\n",
        "\n",
        "where $\\eta_{t}^{i}$ denote independently simulated paths of the single section process. So, the obtained Monte-Carlo estimator is $\\hat{m_{n}} = \\frac{1}{N}\\sum_{k=1}^{N}\\mathbb{1}_{\\eta_{t}^{k}=n}$.\n",
        "\n",
        "---\n",
        "\n",
        "Moreover, by the Central Limit Theorem,\n",
        "$$\\frac{\\sqrt{N}}{\\sigma}(\\hat{m_{n}}-m) \\xrightarrow[N \\to \\infty]{(D)} \\mathcal{N}(0,1)$$\n",
        "which gives us an asymptotic confidence interval with level $\\alpha$ for m:\n",
        "$$m \\in \\left[\\frac{\\sqrt{N}}{\\hat{\\sigma_{n}}} \\hat{m_{n}}-q_{\\alpha/2},\\frac{\\sqrt{N}}{\\hat{\\sigma_{n}}} \\hat{m_{n}}+q_{\\alpha/2}\\right]$$\n",
        "Here $q_{\\alpha/2}$ denotes the $\\frac{\\alpha}{2}^{th}$ quantile of the standard gaussian distribution."
      ],
      "metadata": {
        "id": "hSRjCz4_P8h0"
      }
    },
    {
      "cell_type": "markdown",
      "source": [
        "***Parameter List:***\n",
        "\n",
        "*  alambda($\\lambda$) = value of the parameter for arrival time\n",
        "\n",
        "*  dmu($\\mu$) = value of the parameter for departure time\n",
        "\n",
        "* eta_0($\\eta_{0}$) = intital number of cars in the section\n",
        "\n",
        "* *D* = maximum number of cars in the section (length of the section)\n",
        "\n",
        "* *T* = global time\n",
        "\n",
        "* *seed* = to incorporate reproducibility of results"
      ],
      "metadata": {
        "id": "VgWFdA9L4kAe"
      }
    },
    {
      "cell_type": "code",
      "source": [
        "#We define the jump function for the speacial case of a single section(one way) road\n",
        "def jump_1section(alambda, dmu, eta_0, D, T):\n",
        "    globalT = 0\n",
        "    jump_times = []\n",
        "    states = []\n",
        "    num_cars = eta_0\n",
        "    assert (eta_0<=D),\"Initial number of cars cannot be greater than section capacity!\"\n",
        "    while globalT < T:\n",
        "      atime = np.random.exponential(1/alambda)#arrival time\n",
        "      dtime = np.random.exponential(1/dmu)#departure time\n",
        "      globalT+=min(atime,dtime)\n",
        "      if atime < dtime:\n",
        "        if num_cars<D: #to check if the number of cars in the section has not exceeded the maximum permitted cars which is given by D\n",
        "          num_cars += 1\n",
        "          jump_times.append(atime)\n",
        "          states.append(num_cars)\n",
        "      else:\n",
        "        if num_cars>0:#to check if the number of cars is not =0, because there would beno cars to depart\n",
        "            num_cars -= 1\n",
        "            jump_times.append(dtime)\n",
        "            states.append(num_cars)\n",
        "    return jump_times, states"
      ],
      "metadata": {
        "id": "z62IIIP9f1HT"
      },
      "execution_count": null,
      "outputs": []
    },
    {
      "cell_type": "code",
      "source": [
        "#We define the method which estimates the value of the probability of having n cars in the section at time t-->inf using the Monte-Carlo method.\n",
        "def monte_carlo_prob(alambda, dmu, eta_0, D, n, T, num_sim,seed):\n",
        "    np.random.seed(seed)\n",
        "    E = []\n",
        "    for i in range(1, num_sim + 1):\n",
        "        jump_times_1sec, states_1sec = jump_1section(alambda, dmu, eta_0, D, T)\n",
        "        if states_1sec and states_1sec[-1] == n: #we check if states_1sec is empty and if not compare its last element with n\n",
        "           E.append(1)\n",
        "        else:\n",
        "           E.append(0)\n",
        "    return np.mean(E), np.std(E)"
      ],
      "metadata": {
        "id": "SR8J3DJWpLQS"
      },
      "execution_count": null,
      "outputs": []
    },
    {
      "cell_type": "markdown",
      "source": [
        "We take the arrival rate lambda to be equal to the maximal flow volume Q(rho_cr), according to the assumptions and the departure rate equal to beta which is the average flow volume equal to Q(rho_cr)/2."
      ],
      "metadata": {
        "id": "8NhOx7_jHW5L"
      }
    },
    {
      "cell_type": "code",
      "source": [
        "alpha = Q(rho_cr)\n",
        "beta = Q(rho_cr)/2\n",
        "np.set_printoptions(precision=10)\n",
        "print(\"Estimated probability of 0 cars in the section at time t-->inf: {:.10f}\".format(monte_carlo_prob(alpha,beta,0,2,0,50,10000,42)[0])) # eta_0 =0, n=0\n",
        "print(\"Estimated probability of 0 cars in the section at time t-->inf: {:.10f}\".format(monte_carlo_prob(alpha,beta,0,2,1,50,10000,42)[0])) # eta_0 =0, n=1\n",
        "print(\"Estimated probability of 0 cars in the section at time t-->inf: {:.10f}\".format(monte_carlo_prob(alpha,beta,0,2,2,50,10000,42)[0])) # eta_0 =0, n=2"
      ],
      "metadata": {
        "colab": {
          "base_uri": "https://localhost:8080/"
        },
        "id": "x0nfEtOo6VSx",
        "outputId": "283c58d9-09f9-4f7a-c8e0-3a7a8f555a0a"
      },
      "execution_count": null,
      "outputs": [
        {
          "output_type": "stream",
          "name": "stdout",
          "text": [
            "Estimated probability of 0 cars in the section at time t-->inf: 0.1431000000\n",
            "Estimated probability of 0 cars in the section at time t-->inf: 0.2878000000\n",
            "Estimated probability of 0 cars in the section at time t-->inf: 0.5691000000\n"
          ]
        }
      ]
    },
    {
      "cell_type": "code",
      "source": [
        "print(\"Estimated probability of 0 cars in the section at time t-->inf: {:.10f}\".format(monte_carlo_prob(alpha,beta,1,2,0,50,10000,42)[0])) # eta_0 =1, n=0\n",
        "print(\"Estimated probability of 0 cars in the section at time t-->inf: {:.10f}\".format(monte_carlo_prob(alpha,beta,1,2,1,50,10000,42)[0])) # eta_0 =1, n=1\n",
        "print(\"Estimated probability of 0 cars in the section at time t-->inf: {:.10f}\".format(monte_carlo_prob(alpha,beta,1,2,2,50,10000,42)[0])) # eta_0 =1, n=2"
      ],
      "metadata": {
        "colab": {
          "base_uri": "https://localhost:8080/"
        },
        "id": "FOaXs7n15jrt",
        "outputId": "c4dbe44c-6802-4b1c-d71d-7eeef065f1e0"
      },
      "execution_count": null,
      "outputs": [
        {
          "output_type": "stream",
          "name": "stdout",
          "text": [
            "Estimated probability of 0 cars in the section at time t-->inf: 0.1431000000\n",
            "Estimated probability of 0 cars in the section at time t-->inf: 0.2878000000\n",
            "Estimated probability of 0 cars in the section at time t-->inf: 0.5691000000\n"
          ]
        }
      ]
    },
    {
      "cell_type": "code",
      "source": [
        "print(\"Estimated probability of 0 cars in the section at time t-->inf: {:.10f}\".format(monte_carlo_prob(alpha,beta,2,2,0,50,10000,42)[0])) # eta_0 =2, n=0\n",
        "print(\"Estimated probability of 0 cars in the section at time t-->inf: {:.10f}\".format(monte_carlo_prob(alpha,beta,2,2,1,50,10000,42)[0])) # eta_0 =2, n=1\n",
        "print(\"Estimated probability of 0 cars in the section at time t-->inf: {:.10f}\".format(monte_carlo_prob(alpha,beta,2,2,2,50,10000,42)[0])) # eta_0 =2, n=2"
      ],
      "metadata": {
        "colab": {
          "base_uri": "https://localhost:8080/"
        },
        "id": "cBgRpnW2Ib44",
        "outputId": "6aa5a9c5-f54e-4aa2-883f-0d4cea6cf023"
      },
      "execution_count": null,
      "outputs": [
        {
          "output_type": "stream",
          "name": "stdout",
          "text": [
            "Estimated probability of 0 cars in the section at time t-->inf: 0.1431000000\n",
            "Estimated probability of 0 cars in the section at time t-->inf: 0.2878000000\n",
            "Estimated probability of 0 cars in the section at time t-->inf: 0.5691000000\n"
          ]
        }
      ]
    },
    {
      "cell_type": "markdown",
      "source": [
        "We observe that the value of the estimated probability does not change with change in the intial number of vehicles in the section."
      ],
      "metadata": {
        "id": "D0IUHi4M_c7C"
      }
    },
    {
      "cell_type": "markdown",
      "source": [
        "We can also build confidence intervals for the stationary probabilities m(0), m(1), and m(2) to get an idea about the error in the monte carlo approximation."
      ],
      "metadata": {
        "id": "jPbYDUNj-PJ-"
      }
    },
    {
      "cell_type": "code",
      "source": [
        "alpha = Q(rho_cr)\n",
        "beta = Q(rho_cr)/2\n",
        "prob,std=monte_carlo_prob(alpha,beta,0,2,0,50,10000,42)\n",
        "lenght_IC=2*1.96*std/np.sqrt(10000)\n",
        "\n",
        "print(\"Exact stationary probability m(0):\",m(0,2))\n",
        "print(\"\\n\")\n",
        "print(\"Monte Carlo Probability, 95% Asymptotic Confidence interval for m(0)\")\n",
        "print(\"Confidence Interval = {:1.10f} +/- {:1.6f} \\n\".format(prob,lenght_IC/2))\n",
        "print(\"Confidence Interval = [{:1.10f}, {:1.6f}] \\n\".format(prob-1.96*std/np.sqrt(10000),prob+1.96*std/np.sqrt(10000)))\n",
        "print(\"Relative error = lenght_CI/MonteCarloProba={:1.10f} % \\n\".format(100*lenght_IC/prob))"
      ],
      "metadata": {
        "colab": {
          "base_uri": "https://localhost:8080/"
        },
        "id": "CPG8qLUJ-Ajr",
        "outputId": "98f41f7e-d405-4394-d061-6390d6fb48bb"
      },
      "execution_count": null,
      "outputs": [
        {
          "output_type": "stream",
          "name": "stdout",
          "text": [
            "Exact stationary probability m(0): 0.14285714285714413\n",
            "\n",
            "\n",
            "Monte Carlo Probability, 95% Asymptotic Confidence interval for m(0)\n",
            "Confidence Interval = 0.1431000000 +/- 0.006863 \n",
            "\n",
            "Confidence Interval = [0.1362365739, 0.149963] \n",
            "\n",
            "Relative error = lenght_CI/MonteCarloProba=9.5924892585 % \n",
            "\n"
          ]
        }
      ]
    },
    {
      "cell_type": "code",
      "source": [
        "prob,std=monte_carlo_prob(alpha,beta,0,2,1,50,10000,42)\n",
        "lenght_IC=2*1.96*std/np.sqrt(10000)\n",
        "\n",
        "print(\"Exact stationary probability m(1):\",m(1,2))\n",
        "print(\"\\n\")\n",
        "print(\"Monte Carlo Probability, 95% Asymptotic Confidence interval for m(1)\")\n",
        "print(\"Confidence Interval = {:1.10f} +/- {:1.6f} \\n\".format(prob,lenght_IC/2))\n",
        "print(\"Confidence Interval = [{:1.10f}, {:1.6f}] \\n\".format(prob-1.96*std/np.sqrt(10000),prob+1.96*std/np.sqrt(10000)))\n",
        "print(\"Relative error = lenght_CI/MonteCarloProba = {:1.10f} % \\n\".format(100*lenght_IC/prob))"
      ],
      "metadata": {
        "colab": {
          "base_uri": "https://localhost:8080/"
        },
        "id": "1Wf2vLG9-kMB",
        "outputId": "14d7d683-aeb0-4d91-a836-44c81c66e5ee"
      },
      "execution_count": null,
      "outputs": [
        {
          "output_type": "stream",
          "name": "stdout",
          "text": [
            "Exact stationary probability m(1): 0.28571428571428525\n",
            "\n",
            "\n",
            "Monte Carlo Probability, 95% Asymptotic Confidence interval for m(1)\n",
            "Confidence Interval = 0.2878000000 +/- 0.008874 \n",
            "\n",
            "Confidence Interval = [0.2789263468, 0.296674] \n",
            "\n",
            "Relative error = lenght_CI/MonteCarloProba = 6.1665414759 % \n",
            "\n"
          ]
        }
      ]
    },
    {
      "cell_type": "code",
      "source": [
        "prob,std=monte_carlo_prob(alpha,beta,0,2,2,50,10000,42)\n",
        "lenght_IC=2*1.96*std/np.sqrt(10000)\n",
        "\n",
        "print(\"Exact stationary probability m(2):\",m(2,2))\n",
        "print(\"\\n\")\n",
        "print(\"Monte Carlo Probability, 95% Asymptotic Confidence interval for m(2)\")\n",
        "print(\"Confidence Interval = {:1.10f} +/- {:1.6f} \\n\".format(prob,lenght_IC/2))\n",
        "print(\"Confidence Interval = [{:1.10f}, {:1.6f}] \\n\".format(prob-1.96*std/np.sqrt(10000),prob+1.96*std/np.sqrt(10000)))\n",
        "print(\"Relative error = lenght_CI/MonteCarloProba={:1.10f} % \\n\".format(100*lenght_IC/prob))"
      ],
      "metadata": {
        "colab": {
          "base_uri": "https://localhost:8080/"
        },
        "id": "AWD6520l-0tC",
        "outputId": "7a135343-79d5-4bec-e76f-67bdd34d2b62"
      },
      "execution_count": null,
      "outputs": [
        {
          "output_type": "stream",
          "name": "stdout",
          "text": [
            "Exact stationary probability m(2): 0.5714285714285705\n",
            "\n",
            "\n",
            "Monte Carlo Probability, 95% Asymptotic Confidence interval for m(2)\n",
            "Confidence Interval = 0.5691000000 +/- 0.009706 \n",
            "\n",
            "Confidence Interval = [0.5593940375, 0.578806] \n",
            "\n",
            "Relative error = lenght_CI/MonteCarloProba=3.4109866626 % \n",
            "\n"
          ]
        }
      ]
    },
    {
      "cell_type": "markdown",
      "source": [
        "Finally, in order to graphically illustrate that\n",
        "$$\\sum_{y \\in E}\\vert \\mathbb{P}(X_{t}=y \\vert X_{0}=x)- m(y)   \\vert \\leq Ce^{-\\lambda t}$$\n",
        "we can plot the convergence of the logarithm of this error term, i.e the error of the transition probability of the jump process and the stationary distribution $m$, vs the time t."
      ],
      "metadata": {
        "id": "ngOhP3_E3y1X"
      }
    },
    {
      "cell_type": "code",
      "source": [
        "## Illustration of the exponential convergence\n",
        "\n",
        "def vector_ln_err(vect_T):\n",
        "    Err=[]\n",
        "\n",
        "    for T in vect_T:\n",
        "        #sum of absolute errors of transition probabilities P_t(x,y) and the stationary probability m(y)\n",
        "        err_curr= np.abs(monte_carlo_prob(Q(rho_cr),Q(rho_cr)/2,2,2,2,T,10000,42)[0]-m(2,2)) + np.abs(monte_carlo_prob(Q(rho_cr),Q(rho_cr)/2,2,2,1,T,10000,42)[0]-m(1,2)) + np.abs(monte_carlo_prob(Q(rho_cr),Q(rho_cr)/2,2,2,0,T,10000,42)[0]-m(0,2))\n",
        "        #we sum the error terms for all values of n=0,1,2\n",
        "        Err.append(np.log(err_curr))\n",
        "    return Err\n",
        "\n",
        "vect_T=[0.1,2.6,4,6.2,10.6,13,30,50]#Create an array to find the errors for the global times in the array\n",
        "error=vector_ln_err(vect_T)\n",
        "plt.xlabel(\"time\")\n",
        "plt.ylabel(\"Logarithm of error\")\n",
        "plt.plot(vect_T, error)\n",
        "title(\"Markov Jump process L1 convergence to m\")\n",
        "legend(loc=\"best\")"
      ],
      "metadata": {
        "colab": {
          "base_uri": "https://localhost:8080/",
          "height": 527
        },
        "id": "wylEYSvy2Z6w",
        "outputId": "79a57a76-432d-4a64-de79-a5831d7b51ff"
      },
      "execution_count": null,
      "outputs": [
        {
          "output_type": "stream",
          "name": "stderr",
          "text": [
            "WARNING:matplotlib.legend:No artists with labels found to put in legend.  Note that artists whose label start with an underscore are ignored when legend() is called with no argument.\n"
          ]
        },
        {
          "output_type": "execute_result",
          "data": {
            "text/plain": [
              "<matplotlib.legend.Legend at 0x79942d7ea980>"
            ]
          },
          "metadata": {},
          "execution_count": 27
        },
        {
          "output_type": "display_data",
          "data": {
            "text/plain": [
              "<Figure size 640x480 with 1 Axes>"
            ],
            "image/png": "[encoded data removed]"
          },
          "metadata": {}
        }
      ]
    },
    {
      "cell_type": "markdown",
      "source": [
        "We observe that the error converges to 0 as the time t goes to infinity."
      ],
      "metadata": {
        "id": "FEwe8sL5_pj4"
      }
    },
    {
      "cell_type": "markdown",
      "source": [
        "## REFERENCES"
      ],
      "metadata": {
        "id": "-tLUlDsXGISM"
      }
    },
    {
      "cell_type": "markdown",
      "source": [
        "Bodineau, T. (n.d.). Modélisation de phénomènes aléatoires: introduction aux chaînes de Markov et aux martingales. http://www.cmap.polytechnique.fr/~bodineau/MAP432.pdf\n",
        "\n",
        "Markov Chain Initial Distribution. (n.d.). Mathematics Stack Exchange. https://math.stackexchange.com/questions/566957/markov-chain-initial-distribution\n",
        "\n",
        "Steady state distribution for Markov pure jump process. (n.d.). Mathematics Stack Exchange. https://math.stackexchange.com/questions/557848/steady-state-distribution-for-markov-pure-jump-process\n",
        "\n",
        "Wang, Y., & He, Z. (2019). Mesoscopic modelling and analysis of traffic flow based on stationary observations. Procedia Computer Science, 151, 800–807. https://doi.org/10.1016/j.procs.2019.04.109\n",
        "\n",
        "JANSEN, S. (2020). MARKOV JUMP PROCESSES. https://www.mathematik.uni-muenchen.de/~jansen/jump-processes.pdf\n",
        "\n",
        "Karlin, S. (2018). Continuous time processes. In Continuous Time Processes. https://web.stanford.edu/class/stat217/Chapter3.pdf\n",
        "\n",
        "Markov Chain Initial Distribution. (n.d.-b). Mathematics Stack Exchange. https://math.stackexchange.com/questions/566957/markov-chain-initial-distribution\n",
        "\n",
        "Pardoux, É. (2006). Processus de Markov et applications (Vol. 2, pp. 11–333). https://www.association-tremplin.org/Documents/Eleves/Apres/CoursChainedeMarkovM1Pardoux.pdf\n",
        "\n",
        "Tordeux, A., Michel ROUSSIGNOL, Sylvain LASSARRE, & UNIVERSITÄT ZU KÖLN, INSTITUT FÜR THEORETISCHE PHYSIK. (2010). Traffic flow models by Markovian jump process. https://www.vzu.uni-wuppertal.de/fileadmin/site/vzu/Presentation_-_Institute_for_Theoretical_Physics.pdf\n",
        "\n",
        "Rey, C., Bansaye V., Lecture Notes. Processus Markov & Applications [MAP566B]"
      ],
      "metadata": {
        "id": "qZPKKr6T3esL"
      }
    },
    {
      "cell_type": "code",
      "source": [],
      "metadata": {
        "id": "Z6zUuuOa5nP8"
      },
      "execution_count": null,
      "outputs": []
    }
  ],
  "metadata": {
    "colab": {
      "provenance": []
    },
    "kernelspec": {
      "display_name": "Python 3",
      "name": "python3"
    },
    "language_info": {
      "name": "python"
    }
  },
  "nbformat": 4,
  "nbformat_minor": 0
}